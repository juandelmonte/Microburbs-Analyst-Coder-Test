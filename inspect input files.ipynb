{
 "cells": [
  {
   "cell_type": "code",
   "execution_count": 1,
   "id": "b76a2974-2feb-4c15-9516-89a9507c6184",
   "metadata": {},
   "outputs": [],
   "source": [
    "import pandas as pd\n",
    "from pathlib import Path\n",
    "\n",
    "import geopandas as gpd\n",
    "import fiona\n",
    "\n",
    "input_directory = Path.cwd() / 'input/'\n",
    "#print(f\"Current path: {current_directory}\")\n",
    "\n",
    "for file in ['transactions','gnaf_prop']:\n",
    "    # Read a Parquet file\n",
    "    df = pd.read_parquet(input_directory / f'{file}.parquet')\n",
    "\n",
    "    df.head(20).to_csv(f'output/{file}.csv', index=False)\n",
    "\n",
    "    df.head()\n"
   ]
  },
  {
   "cell_type": "code",
   "execution_count": 2,
   "id": "939e3492",
   "metadata": {},
   "outputs": [],
   "source": [
    "for file in ['roads','cadastre']:\n",
    "    fp = input_directory / f'{file}.gpkg'  # or your .gpkg filename\n",
    "\n",
    "    # Read first layer (use layer name or index)\n",
    "    gdf = gpd.read_file(str(fp), layer=0)\n",
    "    gdf.head(20).to_csv(f'output/{file}.csv', index=False)\n",
    "    gdf.head()"
   ]
  }
 ],
 "metadata": {
  "kernelspec": {
   "display_name": "venv",
   "language": "python",
   "name": "python3"
  },
  "language_info": {
   "codemirror_mode": {
    "name": "ipython",
    "version": 3
   },
   "file_extension": ".py",
   "mimetype": "text/x-python",
   "name": "python",
   "nbconvert_exporter": "python",
   "pygments_lexer": "ipython3",
   "version": "3.13.5"
  }
 },
 "nbformat": 4,
 "nbformat_minor": 5
}
